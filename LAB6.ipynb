{
  "nbformat": 4,
  "nbformat_minor": 0,
  "metadata": {
    "colab": {
      "name": "Untitled2.ipynb",
      "provenance": [],
      "include_colab_link": true
    },
    "kernelspec": {
      "name": "python3",
      "display_name": "Python 3"
    },
    "language_info": {
      "name": "python"
    }
  },
  "cells": [
    {
      "cell_type": "markdown",
      "metadata": {
        "id": "view-in-github",
        "colab_type": "text"
      },
      "source": [
        "<a href=\"https://colab.research.google.com/github/nguyenthanh222/HelloWorld/blob/main/LAB6.ipynb\" target=\"_parent\"><img src=\"https://colab.research.google.com/assets/colab-badge.svg\" alt=\"Open In Colab\"/></a>"
      ]
    },
    {
      "cell_type": "code",
      "execution_count": null,
      "metadata": {
        "colab": {
          "base_uri": "https://localhost:8080/"
        },
        "id": "glLZDq8EV1-r",
        "outputId": "dc586d4c-89fd-4523-81f8-4dedd0add70b"
      },
      "outputs": [
        {
          "output_type": "stream",
          "name": "stderr",
          "text": [
            "/usr/local/lib/python3.7/dist-packages/statsmodels/tools/_testing.py:19: FutureWarning: pandas.util.testing is deprecated. Use the functions in the public API at pandas.testing instead.\n",
            "  import pandas.util.testing as tm\n"
          ]
        }
      ],
      "source": [
        "import pandas as pd\n",
        "import numpy as np\n",
        "import matplotlib.pyplot as plt\n",
        "from scipy.stats.stats import pearsonr\n",
        "import statsmodels.formula.api as smf "
      ]
    },
    {
      "cell_type": "code",
      "source": [
        "#load dữ liệu\n",
        "df = pd.read_csv(\"https://raw.githubusercontent.com/DuanWork/PhanTichDuLieu/main/DataAnalystDeepLearning/Data/crabs.txt\", sep='\\s+')\n",
        "print(df)"
      ],
      "metadata": {
        "colab": {
          "base_uri": "https://localhost:8080/"
        },
        "id": "dFadLgNYWqX2",
        "outputId": "dd8de66f-5252-4862-ed32-4b7a3e25fd9d"
      },
      "execution_count": null,
      "outputs": [
        {
          "output_type": "stream",
          "name": "stdout",
          "text": [
            "     presz  postsz   inc  year  lf\n",
            "0    113.6   127.7  14.1   NaN   0\n",
            "1    118.1   133.2  15.1   NaN   0\n",
            "2    119.9   135.3  15.4   NaN   0\n",
            "3    126.2   143.3  17.1   NaN   0\n",
            "4    126.7   139.3  12.6   NaN   0\n",
            "..     ...     ...   ...   ...  ..\n",
            "467  135.9   150.3  14.4  92.0   1\n",
            "468  135.6   151.2  15.6  92.0   1\n",
            "469  129.6   143.5  13.9  92.0   1\n",
            "470  134.1   148.3  14.2  92.0   1\n",
            "471  114.4   129.2  14.8  92.0   1\n",
            "\n",
            "[472 rows x 5 columns]\n"
          ]
        }
      ]
    },
    {
      "cell_type": "code",
      "source": [
        "#Vẽ scatter plot, X Trước, Y sau\n",
        "plt.plot(df['postsz'],df['presz'],'o')\n",
        "plt.xlabel('Postmolt size')\n",
        "plt.xlabel('Premolt size')\n",
        "plt.title('Postmolt vs premolt')\n",
        "plt.show()"
      ],
      "metadata": {
        "colab": {
          "base_uri": "https://localhost:8080/",
          "height": 295
        },
        "id": "C7SVKWLCXIhp",
        "outputId": "b0c1a33a-8117-4102-abbf-88ffa973c8a8"
      },
      "execution_count": null,
      "outputs": [
        {
          "output_type": "display_data",
          "data": {
            "text/plain": [
              "<Figure size 432x288 with 1 Axes>"
            ],
            "image/png": "[encoded data removed]"
          },
          "metadata": {
            "needs_background": "light"
          }
        }
      ]
    },
    {
      "cell_type": "code",
      "source": [
        "#Tính hệ số tương quan\n",
        "print('He so tuong quan la', pearsonr(df['postsz'],df['presz']))"
      ],
      "metadata": {
        "colab": {
          "base_uri": "https://localhost:8080/"
        },
        "id": "QeVcYMOTYbyB",
        "outputId": "e2306c3d-ffe9-465f-f79e-2b756c0e8fcf"
      },
      "execution_count": null,
      "outputs": [
        {
          "output_type": "stream",
          "name": "stdout",
          "text": [
            "He so tuong quan la (0.9903699282533854, 0.0)\n"
          ]
        }
      ]
    },
    {
      "cell_type": "code",
      "source": [
        "#Tìm phương trình hồi quy: tính là tính beta0, beta 1\n",
        "#Truyền Y trước: presz, X sau: postsz\n",
        "result = smf.ols('presz~postsz',df).fit()\n",
        "print(result.summary())"
      ],
      "metadata": {
        "colab": {
          "base_uri": "https://localhost:8080/"
        },
        "id": "X4jgQ7A6YuA5",
        "outputId": "8c662c19-569f-4881-f452-fb38bb5e7eef"
      },
      "execution_count": null,
      "outputs": [
        {
          "output_type": "stream",
          "name": "stdout",
          "text": [
            "                            OLS Regression Results                            \n",
            "==============================================================================\n",
            "Dep. Variable:                  presz   R-squared:                       0.981\n",
            "Model:                            OLS   Adj. R-squared:                  0.981\n",
            "Method:                 Least Squares   F-statistic:                 2.405e+04\n",
            "Date:                Mon, 21 Mar 2022   Prob (F-statistic):               0.00\n",
            "Time:                        12:12:44   Log-Likelihood:                -1040.6\n",
            "No. Observations:                 472   AIC:                             2085.\n",
            "Df Residuals:                     470   BIC:                             2094.\n",
            "Df Model:                           1                                         \n",
            "Covariance Type:            nonrobust                                         \n",
            "==============================================================================\n",
            "                 coef    std err          t      P>|t|      [0.025      0.975]\n",
            "------------------------------------------------------------------------------\n",
            "Intercept    -25.2137      1.001    -25.191      0.000     -27.180     -23.247\n",
            "postsz         1.0732      0.007    155.083      0.000       1.060       1.087\n",
            "==============================================================================\n",
            "Omnibus:                      107.875   Durbin-Watson:                   1.684\n",
            "Prob(Omnibus):                  0.000   Jarque-Bera (JB):              625.191\n",
            "Skew:                           0.845   Prob(JB):                    1.74e-136\n",
            "Kurtosis:                       8.379   Cond. No.                     1.43e+03\n",
            "==============================================================================\n",
            "\n",
            "Warnings:\n",
            "[1] Standard Errors assume that the covariance matrix of the errors is correctly specified.\n",
            "[2] The condition number is large, 1.43e+03. This might indicate that there are\n",
            "strong multicollinearity or other numerical problems.\n"
          ]
        }
      ]
    },
    {
      "cell_type": "code",
      "source": [
        "#Nhìn đọc kết quả giá trị beta0, beta1, Intercrept   -25.2137 là beta0, potsz    1.0732 là beta1\n",
        "#Đọc xong viets phương trình hồi quy\n",
        "#Premolt =-25.2137 + 1.0732*PostMolt"
      ],
      "metadata": {
        "id": "JycyxRz8ZO_g"
      },
      "execution_count": null,
      "outputs": []
    }
  ]
}