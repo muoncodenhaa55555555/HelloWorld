{
  "nbformat": 4,
  "nbformat_minor": 0,
  "metadata": {
    "colab": {
      "name": "Untitled1.ipynb",
      "provenance": [],
      "authorship_tag": "ABX9TyPXaKtirrWV3ojNoQEGwFcv",
      "include_colab_link": true
    },
    "kernelspec": {
      "name": "python3",
      "display_name": "Python 3"
    },
    "language_info": {
      "name": "python"
    },
    "accelerator": "GPU"
  },
  "cells": [
    {
      "cell_type": "markdown",
      "metadata": {
        "id": "view-in-github",
        "colab_type": "text"
      },
      "source": [
        "<a href=\"https://colab.research.google.com/github/nguyenthanh222/HelloWorld/blob/main/Untitled1.ipynb\" target=\"_parent\"><img src=\"https://colab.research.google.com/assets/colab-badge.svg\" alt=\"Open In Colab\"/></a>"
      ]
    },
    {
      "cell_type": "code",
      "execution_count": 1,
      "metadata": {
        "id": "7buSPqtCCC2G",
        "colab": {
          "base_uri": "https://localhost:8080/"
        },
        "outputId": "4dba3293-7ddd-432d-ace7-ecf21ff2f752"
      },
      "outputs": [
        {
          "output_type": "stream",
          "name": "stdout",
          "text": [
            "Downloading data from https://storage.googleapis.com/tensorflow/tf-keras-datasets/mnist.npz\n",
            "11493376/11490434 [==============================] - 0s 0us/step\n",
            "11501568/11490434 [==============================] - 0s 0us/step\n",
            "x_trainshape (60000, 28, 28)\n"
          ]
        }
      ],
      "source": [
        "import numpy as np\n",
        "#thư viện này để hiển thị các tấm ảnh\n",
        "import matplotlib.pyplot as plt\n",
        "from keras.preprocessing.image import img_to_array\n",
        "from keras.preprocessing.image import load_img\n",
        "#đểchọnngẫunhiêncáctấmảnh\n",
        "import  random\n",
        "import os\n",
        "#đểloaddữliệutrongtậpmẫu\n",
        "from keras.datasets import mnist\n",
        "from keras.models import load_model\n",
        "from matplotlib import image\n",
        "#cáchàmsauđểxâydựngmôhìnhmạngneural\n",
        "#thêm1lớp,thêmhàmkíchhoạtactivation\n",
        "from keras.models import Sequential\n",
        "from keras.utils import np_utils\n",
        "from keras.layers.core import Dense,Activation\n",
        "#dữliệutrongtậpdatamnistlà60000tấmảnhtrắngđencókíchthướclà28X28pixel\n",
        "#mỗipixelcógiátrịtừ0-255,0làmàuđenvà255làmàutrắngsángnhất\n",
        "#cácgiátrịcànggầnvới255thìcàngsáng\n",
        "#xemshapecủatậptrain,saukhixemthìtasẽthấythôngtinx_trainshape(60000,28,28)\n",
        "#nghĩalàcó60000tấmảnhtrongtậptrain,mỗitấmảnhcókíchthước28*28\n",
        "(x_train,y_train),(x_test,y_test)=mnist.load_data()\n",
        "print(\"x_trainshape\",x_train.shape)"
      ]
    }
  ]
}